{
 "cells": [
  {
   "cell_type": "markdown",
   "metadata": {},
   "source": [
    "Use this notebook to experiment on python functions."
   ]
  },
  {
   "cell_type": "code",
   "execution_count": 1,
   "metadata": {},
   "outputs": [],
   "source": [
    "import numpy as np\n",
    "import tensorflow as tf"
   ]
  },
  {
   "cell_type": "code",
   "execution_count": 25,
   "metadata": {},
   "outputs": [
    {
     "name": "stdout",
     "output_type": "stream",
     "text": [
      "c = 1\n",
      "d = 2\n"
     ]
    },
    {
     "ename": "TypeError",
     "evalue": "__init__() takes 1 positional argument but 2 were given",
     "output_type": "error",
     "traceback": [
      "\u001b[0;31m---------------------------------------------------------------------------\u001b[0m",
      "\u001b[0;31mTypeError\u001b[0m                                 Traceback (most recent call last)",
      "\u001b[0;32m<ipython-input-25-5bd6316608d0>\u001b[0m in \u001b[0;36m<module>\u001b[0;34m\u001b[0m\n\u001b[1;32m     12\u001b[0m \u001b[0;34m\u001b[0m\u001b[0m\n\u001b[1;32m     13\u001b[0m \u001b[0mtest\u001b[0m \u001b[0;34m=\u001b[0m \u001b[0mChild\u001b[0m\u001b[0;34m(\u001b[0m\u001b[0;36m1\u001b[0m\u001b[0;34m,\u001b[0m\u001b[0;36m2\u001b[0m\u001b[0;34m)\u001b[0m\u001b[0;34m\u001b[0m\u001b[0;34m\u001b[0m\u001b[0m\n\u001b[0;32m---> 14\u001b[0;31m \u001b[0mp\u001b[0m \u001b[0;34m=\u001b[0m \u001b[0mParent\u001b[0m\u001b[0;34m(\u001b[0m\u001b[0mtest\u001b[0m\u001b[0;34m)\u001b[0m\u001b[0;34m\u001b[0m\u001b[0;34m\u001b[0m\u001b[0m\n\u001b[0m",
      "\u001b[0;31mTypeError\u001b[0m: __init__() takes 1 positional argument but 2 were given"
     ]
    }
   ],
   "source": [
    "class Parent(object):\n",
    "    def __init__(self):\n",
    "        pass\n",
    "\n",
    "class Child(Parent):\n",
    "    def __init__(self, c, d):\n",
    "        self.c = c\n",
    "        self.d = d\n",
    "        print (str.format('c = {}', self.c))\n",
    "        print (str.format('d = {}', self.d))\n",
    "        super(Child, self).__init__()\n",
    "\n",
    "test = Child(1,2)\n",
    "p = Parent(test)"
   ]
  },
  {
   "cell_type": "code",
   "execution_count": 14,
   "metadata": {},
   "outputs": [],
   "source": [
    "class Options:\n",
    "    def __init__(self, num_cnn=2, num_fc=2, use_dropout=False, use_batch_norm=False, num_epoch=10, lrDecay=None):\n",
    "        self.num_cnn = num_cnn\n",
    "        self.num_fc = num_fc\n",
    "        self.use_dropout = use_dropout\n",
    "        self.use_batch_norm = use_batch_norm #Not done yet\n",
    "        self.num_epoch = num_epoch\n",
    "        self.lrDecay = lrDecay #Not done yet\n",
    "        \n",
    "    def __str__(self):\n",
    "        return str.format(\"num_cnn = {}, num_fc = {}, use_dropout = {}, use_batch_norm = {}, num_epoch = {}, lrDecay = {}\",\n",
    "                         self.num_cnn, self.num_fc, self.use_dropout, self.use_batch_norm, self.num_epoch, self.lrDecay)\n",
    "        "
   ]
  },
  {
   "cell_type": "code",
   "execution_count": 15,
   "metadata": {},
   "outputs": [
    {
     "name": "stdout",
     "output_type": "stream",
     "text": [
      "num_cnn = 2, num_fc = 2, use_dropout = False, use_batch_norm = False, num_epoch = 10, lrDecay = None\n",
      "num_cnn = 5, num_fc = 3, use_dropout = True, use_batch_norm = True, num_epoch = 20, lrDecay = 0.0001\n"
     ]
    }
   ],
   "source": [
    "print (Options())\n",
    "print (Options(num_cnn = 5, num_fc = 3, use_dropout=True, use_batch_norm=True, num_epoch=20, lrDecay=1e-4))"
   ]
  },
  {
   "cell_type": "code",
   "execution_count": 12,
   "metadata": {},
   "outputs": [],
   "source": [
    "tf.reset_default_graph()\n",
    "\n",
    "a = tf.placeholder(tf.int64, [None, None])\n",
    "avg = tf.reduce_mean(a, axis=1)"
   ]
  },
  {
   "cell_type": "code",
   "execution_count": 13,
   "metadata": {},
   "outputs": [
    {
     "name": "stdout",
     "output_type": "stream",
     "text": [
      "input:\n",
      "[[6 0 3 4 2]\n",
      " [8 5 8 4 6]\n",
      " [9 1 4 1 2]]\n",
      "output:\n",
      "[3 6 3]\n"
     ]
    }
   ],
   "source": [
    "with tf.Session() as sess:\n",
    "    input = (10 * np.random.rand(3, 5)).astype(int)\n",
    "    print (\"input:\")\n",
    "    print (input)\n",
    "    feed_dict = {a: input}\n",
    "    output = sess.run(avg, feed_dict=feed_dict)\n",
    "    print (\"output:\")\n",
    "    print (output)"
   ]
  },
  {
   "cell_type": "code",
   "execution_count": 50,
   "metadata": {},
   "outputs": [
    {
     "name": "stdout",
     "output_type": "stream",
     "text": [
      "a:\n",
      "[[4 6 0]\n",
      " [0 6 2]]\n",
      "C_reshaped:\n",
      "[[4 6 0 0 6 2]]\n",
      "F_reshaped:\n",
      "[[4 0 6 6 0 2]]\n"
     ]
    }
   ],
   "source": [
    "a = (10 * np.random.rand(2, 3)).astype(int)\n",
    "print (\"a:\")\n",
    "print (a)\n",
    "C_reshaped = np.reshape(a, [1, np.prod(a.shape)], order = 'C')\n",
    "F_reshaped = np.reshape(a, [1, np.prod(a.shape)], order = 'F')\n",
    "print (\"C_reshaped:\")\n",
    "print (C_reshaped)\n",
    "print (\"F_reshaped:\")\n",
    "print (F_reshaped)"
   ]
  },
  {
   "cell_type": "code",
   "execution_count": 45,
   "metadata": {},
   "outputs": [
    {
     "name": "stdout",
     "output_type": "stream",
     "text": [
      "a:\n",
      "[[[0 4]]\n",
      "\n",
      " [[9 4]]\n",
      "\n",
      " [[0 0]]]\n",
      "a.shape = (3, 1, 2)\n"
     ]
    },
    {
     "ename": "TypeError",
     "evalue": "'numpy.int64' object is not callable",
     "output_type": "error",
     "traceback": [
      "\u001b[0;31m---------------------------------------------------------------------------\u001b[0m",
      "\u001b[0;31mTypeError\u001b[0m                                 Traceback (most recent call last)",
      "\u001b[0;32m<ipython-input-45-22048dd9bb06>\u001b[0m in \u001b[0;36m<module>\u001b[0;34m\u001b[0m\n\u001b[1;32m      4\u001b[0m \u001b[0mprint\u001b[0m \u001b[0;34m(\u001b[0m\u001b[0mstr\u001b[0m\u001b[0;34m.\u001b[0m\u001b[0mformat\u001b[0m\u001b[0;34m(\u001b[0m\u001b[0;34m\"a.shape = {}\"\u001b[0m\u001b[0;34m,\u001b[0m \u001b[0ma\u001b[0m\u001b[0;34m.\u001b[0m\u001b[0mshape\u001b[0m\u001b[0;34m)\u001b[0m\u001b[0;34m)\u001b[0m\u001b[0;34m\u001b[0m\u001b[0;34m\u001b[0m\u001b[0m\n\u001b[1;32m      5\u001b[0m \u001b[0mdim0\u001b[0m \u001b[0;34m=\u001b[0m \u001b[0ma\u001b[0m\u001b[0;34m.\u001b[0m\u001b[0mshape\u001b[0m\u001b[0;34m[\u001b[0m\u001b[0;36m0\u001b[0m\u001b[0;34m]\u001b[0m\u001b[0;34m\u001b[0m\u001b[0;34m\u001b[0m\u001b[0m\n\u001b[0;32m----> 6\u001b[0;31m \u001b[0mli\u001b[0m \u001b[0;34m=\u001b[0m \u001b[0;34m[\u001b[0m\u001b[0mx\u001b[0m \u001b[0;32mfor\u001b[0m \u001b[0mx\u001b[0m \u001b[0;32min\u001b[0m \u001b[0mrange\u001b[0m\u001b[0;34m(\u001b[0m\u001b[0;36m10\u001b[0m\u001b[0;34m)\u001b[0m\u001b[0;34m]\u001b[0m\u001b[0;34m\u001b[0m\u001b[0;34m\u001b[0m\u001b[0m\n\u001b[0m\u001b[1;32m      7\u001b[0m \u001b[0marr\u001b[0m \u001b[0;34m=\u001b[0m \u001b[0mnp\u001b[0m\u001b[0;34m.\u001b[0m\u001b[0masarray\u001b[0m\u001b[0;34m(\u001b[0m\u001b[0mli\u001b[0m\u001b[0;34m)\u001b[0m\u001b[0;34m\u001b[0m\u001b[0;34m\u001b[0m\u001b[0m\n\u001b[1;32m      8\u001b[0m \u001b[0mprint\u001b[0m \u001b[0;34m(\u001b[0m\u001b[0mstr\u001b[0m\u001b[0;34m.\u001b[0m\u001b[0mformat\u001b[0m\u001b[0;34m(\u001b[0m\u001b[0;34m\"arr.shape = {}\"\u001b[0m\u001b[0;34m,\u001b[0m \u001b[0marr\u001b[0m\u001b[0;34m.\u001b[0m\u001b[0mshape\u001b[0m\u001b[0;34m)\u001b[0m\u001b[0;34m)\u001b[0m\u001b[0;34m\u001b[0m\u001b[0;34m\u001b[0m\u001b[0m\n",
      "\u001b[0;31mTypeError\u001b[0m: 'numpy.int64' object is not callable"
     ]
    }
   ],
   "source": [
    "a = (10 * np.random.rand(3, 1, 2)).astype(int)\n",
    "print (\"a:\")\n",
    "print (a)\n",
    "print (str.format(\"a.shape = {}\", a.shape))\n",
    "dim0 = a.shape[0]\n",
    "li = [x for x in range(10)] # This is somehow using numpy instead of standard list comprehension??!!\n",
    "arr = np.asarray(li)\n",
    "print (str.format(\"arr.shape = {}\", arr.shape))"
   ]
  },
  {
   "cell_type": "code",
   "execution_count": 29,
   "metadata": {},
   "outputs": [
    {
     "name": "stdout",
     "output_type": "stream",
     "text": [
      "[[ 3  1  0]\n",
      " [ 0  1 -1]]\n",
      "2\n",
      "scaled:\n",
      "[[1.   0.5  0.25]\n",
      " [0.25 0.5  0.  ]]\n",
      "divide by sum:\n",
      "[[ 0.75  0.25  0.  ]\n",
      " [ 0.    0.25 -0.25]]\n",
      "Order 1 Normalize:\n",
      "[[ 0.75  0.25  0.  ]\n",
      " [ 0.    0.5  -0.5 ]]\n",
      "Order 2 Normalize:\n",
      "[[ 0.9486833   0.31622777  0.        ]\n",
      " [ 0.          0.70710678 -0.70710678]]\n",
      "Softmax:\n",
      "[[0.84379473 0.1141952  0.04201007]\n",
      " [0.24472847 0.66524096 0.09003057]]\n"
     ]
    }
   ],
   "source": [
    "a = ((10 * np.random.rand(2, 3)) - 5).astype(int)\n",
    "print (a)\n",
    "print (a.shape[0])\n",
    "range = np.ptp(a)\n",
    "min = np.min(a)\n",
    "scaled = (a - min) / range\n",
    "print (\"scaled:\")\n",
    "print (scaled)\n",
    "a_sum = np.sum(a)\n",
    "print (\"divide by sum:\")\n",
    "print (a / a_sum)\n",
    "print (\"Order 1 Normalize:\")\n",
    "print (tf.keras.utils.normalize(a, order=1))\n",
    "print (\"Order 2 Normalize:\")\n",
    "print (tf.keras.utils.normalize(a, order=2))\n",
    "print (\"Softmax:\")\n",
    "print (softmax(a))"
   ]
  },
  {
   "cell_type": "code",
   "execution_count": 24,
   "metadata": {},
   "outputs": [
    {
     "name": "stdout",
     "output_type": "stream",
     "text": [
      "[[0.33328605 0.33276363 0.33395032]\n",
      " [0.33383507 0.33330371 0.33286123]\n",
      " [0.33330914 0.33271033 0.33398053]\n",
      " [0.3329293  0.33369299 0.33337771]\n",
      " [0.33348546 0.33327306 0.33324149]\n",
      " [0.3332882  0.33334925 0.33336255]\n",
      " [0.33358925 0.33342181 0.33298894]]\n",
      "[2 1 0 0 2 2 1]\n"
     ]
    },
    {
     "ename": "TypeError",
     "evalue": "'numpy.int64' object is not callable",
     "output_type": "error",
     "traceback": [
      "\u001b[0;31m---------------------------------------------------------------------------\u001b[0m",
      "\u001b[0;31mTypeError\u001b[0m                                 Traceback (most recent call last)",
      "\u001b[0;32m<ipython-input-24-dffe42fd1860>\u001b[0m in \u001b[0;36m<module>\u001b[0;34m\u001b[0m\n\u001b[1;32m     21\u001b[0m \u001b[0mprint\u001b[0m\u001b[0;34m(\u001b[0m\u001b[0my\u001b[0m\u001b[0;34m)\u001b[0m\u001b[0;34m\u001b[0m\u001b[0;34m\u001b[0m\u001b[0m\n\u001b[1;32m     22\u001b[0m \u001b[0myE\u001b[0m \u001b[0;34m=\u001b[0m \u001b[0mnp\u001b[0m\u001b[0;34m.\u001b[0m\u001b[0mzeros_like\u001b[0m\u001b[0;34m(\u001b[0m\u001b[0mx\u001b[0m\u001b[0;34m)\u001b[0m\u001b[0;34m\u001b[0m\u001b[0;34m\u001b[0m\u001b[0m\n\u001b[0;32m---> 23\u001b[0;31m \u001b[0;32mfor\u001b[0m \u001b[0mi\u001b[0m \u001b[0;32min\u001b[0m \u001b[0mrange\u001b[0m\u001b[0;34m(\u001b[0m\u001b[0mnum_inputs\u001b[0m\u001b[0;34m)\u001b[0m\u001b[0;34m:\u001b[0m\u001b[0;34m\u001b[0m\u001b[0;34m\u001b[0m\u001b[0m\n\u001b[0m\u001b[1;32m     24\u001b[0m     \u001b[0myE\u001b[0m\u001b[0;34m[\u001b[0m\u001b[0;34m(\u001b[0m\u001b[0mi\u001b[0m\u001b[0;34m,\u001b[0m \u001b[0my\u001b[0m\u001b[0;34m[\u001b[0m\u001b[0mi\u001b[0m\u001b[0;34m]\u001b[0m\u001b[0;34m)\u001b[0m\u001b[0;34m]\u001b[0m \u001b[0;34m=\u001b[0m \u001b[0;36m1\u001b[0m\u001b[0;34m\u001b[0m\u001b[0;34m\u001b[0m\u001b[0m\n\u001b[1;32m     25\u001b[0m \u001b[0mprint\u001b[0m\u001b[0;34m(\u001b[0m\u001b[0myE\u001b[0m\u001b[0;34m)\u001b[0m\u001b[0;34m\u001b[0m\u001b[0;34m\u001b[0m\u001b[0m\n",
      "\u001b[0;31mTypeError\u001b[0m: 'numpy.int64' object is not callable"
     ]
    }
   ],
   "source": [
    "def softmax(feat):\n",
    "    scores = None\n",
    "\n",
    "    #############################################################################\n",
    "    # TODO: Implement the forward pass of a softmax function                    #\n",
    "    #############################################################################\n",
    "    exps = np.exp(feat)\n",
    "    scores = exps / np.sum(exps, axis=1, keepdims=True)\n",
    "    #############################################################################\n",
    "    #                             END OF YOUR CODE                              #\n",
    "    #############################################################################\n",
    "    return scores\n",
    "\n",
    "\n",
    "num_classes, num_inputs = 3, 7\n",
    "x = 0.001 * np.random.randn(num_inputs, num_classes)\n",
    "y = np.random.randint(num_classes, size=num_inputs)\n",
    "\n",
    "x = softmax(x)\n",
    "print(x)\n",
    "print(y)\n",
    "yE = np.zeros_like(x)\n",
    "for i in range(num_inputs):\n",
    "    yE[(i, y[i])] = 1\n",
    "print(yE)\n",
    "probs = np.sum(yE, axis = 0) / num_inputs\n",
    "print (probs)\n",
    "\n",
    "print (probs * (-1.0 / x))\n",
    "print (probs * (1 / x))"
   ]
  },
  {
   "cell_type": "code",
   "execution_count": 28,
   "metadata": {},
   "outputs": [
    {
     "data": {
      "text/plain": [
       "0.8567233497101139"
      ]
     },
     "execution_count": 28,
     "metadata": {},
     "output_type": "execute_result"
    }
   ],
   "source": [
    "(1 / 0.33349656) * 0.28571429"
   ]
  },
  {
   "cell_type": "code",
   "execution_count": 2,
   "metadata": {},
   "outputs": [
    {
     "name": "stdout",
     "output_type": "stream",
     "text": [
      "382\n",
      "1914\n",
      "1910\n"
     ]
    }
   ],
   "source": [
    "train_size = 49000\n",
    "batch_size = 128\n",
    "epoch = 5\n",
    "\n",
    "print (train_size // batch_size)\n",
    "print (epoch * train_size // batch_size)\n",
    "print (epoch * (train_size // batch_size))"
   ]
  },
  {
   "cell_type": "code",
   "execution_count": null,
   "metadata": {},
   "outputs": [],
   "source": []
  }
 ],
 "metadata": {
  "kernelspec": {
   "display_name": "csci599dl-assignment1",
   "language": "python",
   "name": "csci599dl-assignment1"
  },
  "language_info": {
   "codemirror_mode": {
    "name": "ipython",
    "version": 3
   },
   "file_extension": ".py",
   "mimetype": "text/x-python",
   "name": "python",
   "nbconvert_exporter": "python",
   "pygments_lexer": "ipython3",
   "version": "3.6.8"
  }
 },
 "nbformat": 4,
 "nbformat_minor": 2
}
