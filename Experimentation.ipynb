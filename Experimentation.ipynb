{
 "cells": [
  {
   "cell_type": "markdown",
   "metadata": {},
   "source": [
    "Use this notebook to experiment on python functions."
   ]
  },
  {
   "cell_type": "code",
   "execution_count": 1,
   "metadata": {},
   "outputs": [],
   "source": [
    "import numpy as np"
   ]
  },
  {
   "cell_type": "code",
   "execution_count": 34,
   "metadata": {},
   "outputs": [
    {
     "name": "stdout",
     "output_type": "stream",
     "text": [
      "[[0.33327084 0.33321256 0.3335166 ]\n",
      " [0.33314938 0.33374729 0.33310333]\n",
      " [0.33364604 0.33298957 0.33336439]\n",
      " [0.33346885 0.33346025 0.3330709 ]\n",
      " [0.33373669 0.3331413  0.33312201]\n",
      " [0.33365682 0.33315114 0.33319204]\n",
      " [0.33344664 0.33334736 0.333206  ]]\n",
      "[1 2 0 0 0 2 2]\n",
      "[[0. 1. 0.]\n",
      " [0. 0. 1.]\n",
      " [1. 0. 0.]\n",
      " [1. 0. 0.]\n",
      " [1. 0. 0.]\n",
      " [0. 0. 1.]\n",
      " [0. 0. 1.]]\n",
      "[0.42857143 0.14285714 0.42857143]\n",
      "[[-1.28595539 -0.42872677 -1.28500777]\n",
      " [-1.2864242  -0.42803986 -1.28660206]\n",
      " [-1.28450925 -0.42901387 -1.28559451]\n",
      " [-1.2851918  -0.42840831 -1.28672732]\n",
      " [-1.28416036 -0.42881847 -1.2865299 ]\n",
      " [-1.28446775 -0.42880581 -1.2862595 ]\n",
      " [-1.28527739 -0.42855339 -1.28620563]]\n",
      "[[1.28595539 0.42872677 1.28500777]\n",
      " [1.2864242  0.42803986 1.28660206]\n",
      " [1.28450925 0.42901387 1.28559451]\n",
      " [1.2851918  0.42840831 1.28672732]\n",
      " [1.28416036 0.42881847 1.2865299 ]\n",
      " [1.28446775 0.42880581 1.2862595 ]\n",
      " [1.28527739 0.42855339 1.28620563]]\n"
     ]
    }
   ],
   "source": [
    "def softmax(feat):\n",
    "    scores = None\n",
    "\n",
    "    #############################################################################\n",
    "    # TODO: Implement the forward pass of a softmax function                    #\n",
    "    #############################################################################\n",
    "    exps = np.exp(feat)\n",
    "    scores = exps / np.sum(exps, axis=1, keepdims=True)\n",
    "    #############################################################################\n",
    "    #                             END OF YOUR CODE                              #\n",
    "    #############################################################################\n",
    "    return scores\n",
    "\n",
    "\n",
    "num_classes, num_inputs = 3, 7\n",
    "x = 0.001 * np.random.randn(num_inputs, num_classes)\n",
    "y = np.random.randint(num_classes, size=num_inputs)\n",
    "\n",
    "x = softmax(x)\n",
    "print(x)\n",
    "print(y)\n",
    "yE = np.zeros_like(x)\n",
    "for i in range(num_inputs):\n",
    "    yE[(i, y[i])] = 1\n",
    "print(yE)\n",
    "probs = np.sum(yE, axis = 0) / num_inputs\n",
    "print (probs)\n",
    "\n",
    "print (probs * (-1.0 / x))\n",
    "print (probs * (1 / x))"
   ]
  },
  {
   "cell_type": "code",
   "execution_count": 28,
   "metadata": {},
   "outputs": [
    {
     "data": {
      "text/plain": [
       "0.8567233497101139"
      ]
     },
     "execution_count": 28,
     "metadata": {},
     "output_type": "execute_result"
    }
   ],
   "source": [
    "(1 / 0.33349656) * 0.28571429"
   ]
  },
  {
   "cell_type": "code",
   "execution_count": 2,
   "metadata": {},
   "outputs": [
    {
     "name": "stdout",
     "output_type": "stream",
     "text": [
      "382\n",
      "1914\n",
      "1910\n"
     ]
    }
   ],
   "source": [
    "train_size = 49000\n",
    "batch_size = 128\n",
    "epoch = 5\n",
    "\n",
    "print (train_size // batch_size)\n",
    "print (epoch * train_size // batch_size)\n",
    "print (epoch * (train_size // batch_size))"
   ]
  },
  {
   "cell_type": "code",
   "execution_count": null,
   "metadata": {},
   "outputs": [],
   "source": []
  }
 ],
 "metadata": {
  "kernelspec": {
   "display_name": "csci599dl-assignment1",
   "language": "python",
   "name": "csci599dl-assignment1"
  },
  "language_info": {
   "codemirror_mode": {
    "name": "ipython",
    "version": 3
   },
   "file_extension": ".py",
   "mimetype": "text/x-python",
   "name": "python",
   "nbconvert_exporter": "python",
   "pygments_lexer": "ipython3",
   "version": "3.6.8"
  }
 },
 "nbformat": 4,
 "nbformat_minor": 2
}
